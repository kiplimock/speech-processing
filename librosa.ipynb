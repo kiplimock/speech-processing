{
 "cells": [
  {
   "cell_type": "markdown",
   "id": "be13d2ba",
   "metadata": {},
   "source": [
    "#### Basic example"
   ]
  },
  {
   "cell_type": "code",
   "execution_count": 9,
   "id": "499af6a1",
   "metadata": {},
   "outputs": [
    {
     "name": "stdout",
     "output_type": "stream",
     "text": [
      "Estimated tempo: 107.67 beats per minute\n"
     ]
    }
   ],
   "source": [
    "import librosa\n",
    "\n",
    "# get the filepath\n",
    "filename = 'C:\\\\Users\\\\kipli\\\\Cedric\\\\Dance_of_the_Sugar_Plum_Fairy.ogg'\n",
    "\n",
    "# load the file as a waveform 'y' and store the sampling rate as 'sr'\n",
    "# y is a time series\n",
    "y, sr = librosa.load(filename)\n",
    "\n",
    "# run the default beat cracker\n",
    "# beat_frames is an array of frame numbers with detected beat events\n",
    "tempo, beat_frames = librosa.beat.beat_track(y=y, sr=sr)\n",
    "print('Estimated tempo: {:.2f} beats per minute'.format(tempo))\n",
    "\n",
    "# convert the frame indices of beat events into time stamps (corresponding to detected beat events)\n",
    "beat_times = librosa.frames_to_time(beat_frames, sr)"
   ]
  },
  {
   "cell_type": "markdown",
   "id": "c1ad1a7d",
   "metadata": {},
   "source": [
    "#### Advanced Example\n",
    "\n",
    "1. `librosa.effects.hpss()` separates `y` into two time series, containing the harmonic (tonal) and the percussive (transient) portions of the signal. Each portion has the same duration. The motivation for this kind of operation is two-fold: first, percussive elements tend to be stronger indicators of rhythmic content, and can help provide more stable beat tracking results; second, percussive elements can pollute tonal feature representations (such as chroma) by contributing energy across all frequency bands, so we’d be better off without them.\n",
    "2. `librosa.feature.mfcc()` is used to extract the Mel-frequency cepstral coefficients of the MFC - a representation of the short-term energy spectrum of the raw signal. The output is a numpy array of shape `(n_mfcc, T)` (where T is the track duration in frames). The number of columns of mfcc is equal to the detected `beat_frames`\n",
    "3. `librosa.feature.delta()` computes the smoothed first-order differences amoing the columns of the input. The output `mfcc_delta` has the same shape as the input `mfcc`.\n",
    "4. `librosa.util.sync(np.vstack([mfcc, mfcc_delta]), beat_frames)` aggregates the columns of its inputs between sample indices. `mfcc` and `mfcc_delta` are vertically stacked together. The output is a matrix `beat_mfcc_delta` with the same number of rows as its input and number of columns depending on `beat_frames`. Each column `beat_mfcc_delta[:, k]` will be the average of input columns between `beat_frames[k]` and `beat_frames[k+1]`. (beat_frames will be expanded to span the full range `[0, T]` so that all data is accounted for.)\n",
    "5. `librosa.feature.chroma_cqt(y=y_harmonic, sr=sr)` computes a `chromagram`, which is a `(12, T)` numpy array with each row corresponding to a pitch class and each column normalized by its peak value. It is possible to alter this by setting a `norm` parameter.\n",
    "6. `librosa.util.sync(chromagram, beat_frames, aggregate=np.median)` synchronizes the chroma between beat events. Any statistical summarization function can be used for the aggregation. \n",
    "7. A feature matrix is computed by stacking the synced chroma and `beat_mfcc_delta`."
   ]
  },
  {
   "cell_type": "code",
   "execution_count": 9,
   "id": "8a5714b3",
   "metadata": {},
   "outputs": [
    {
     "name": "stdout",
     "output_type": "stream",
     "text": [
      "\n",
      "MFCC features: \n",
      "[[-602.36005 -602.36005 -602.36005 ... -602.36005 -602.36005 -602.36005]\n",
      " [   0.         0.         0.      ...    0.         0.         0.     ]\n",
      " [   0.         0.         0.      ...    0.         0.         0.     ]\n",
      " ...\n",
      " [   0.         0.         0.      ...    0.         0.         0.     ]\n",
      " [   0.         0.         0.      ...    0.         0.         0.     ]\n",
      " [   0.         0.         0.      ...    0.         0.         0.     ]]\n",
      "\n",
      "Delta features: \n",
      "[[ 4.7758025e-14  4.7758025e-14  4.7758025e-14 ... -6.2357583e-03\n",
      "  -6.2357583e-03 -6.2357583e-03]\n",
      " [ 0.0000000e+00  0.0000000e+00  0.0000000e+00 ... -3.2735988e-03\n",
      "  -3.2735988e-03 -3.2735988e-03]\n",
      " [ 0.0000000e+00  0.0000000e+00  0.0000000e+00 ...  6.3850912e-03\n",
      "   6.3850912e-03  6.3850912e-03]\n",
      " ...\n",
      " [ 0.0000000e+00  0.0000000e+00  0.0000000e+00 ... -6.9502019e-03\n",
      "  -6.9502019e-03 -6.9502019e-03]\n",
      " [ 0.0000000e+00  0.0000000e+00  0.0000000e+00 ... -7.6169395e-03\n",
      "  -7.6169395e-03 -7.6169395e-03]\n",
      " [ 0.0000000e+00  0.0000000e+00  0.0000000e+00 ...  1.2936007e-03\n",
      "   1.2936007e-03  1.2936007e-03]]\n",
      "\n",
      "Synced signal: \n",
      "[[-5.9604999e+02 -4.7197580e+02 -4.1874072e+02 ... -2.3020921e+02\n",
      "  -1.8163304e+02 -4.2251523e+02]\n",
      " [ 5.2975211e+00  1.1949183e+02  1.1948103e+02 ...  6.6341103e+01\n",
      "   6.6691948e+01  7.4572968e+01]\n",
      " [ 1.7937428e+00  5.0107548e+01  1.3160577e+01 ... -6.4823563e+01\n",
      "  -6.9339317e+01 -2.0629318e+01]\n",
      " ...\n",
      " [-6.5489024e-02 -1.4644985e-01  5.3392764e-02 ... -1.6999006e-01\n",
      "   6.2217772e-01  1.2908453e-01]\n",
      " [-2.3219621e-02 -1.3737974e-01 -1.1438873e-02 ... -2.4983515e-01\n",
      "   2.4913453e-01  8.3047133e-03]\n",
      " [ 2.8648028e-02 -2.0102443e-01 -5.5422392e-02 ...  7.5020015e-02\n",
      "  -6.1561984e-01  7.6282956e-02]]\n",
      "\n",
      "Chroma features: \n",
      "[[0.5482865  0.5595721  0.34219363 ... 0.08856483 0.21623789 0.49575177]\n",
      " [0.18835212 0.1094206  0.12314931 ... 0.16239385 0.15858239 0.29612982]\n",
      " [0.4294046  0.31900612 0.23598963 ... 0.519245   0.3996351  0.33668664]\n",
      " ...\n",
      " [0.716463   0.48105586 0.24196246 ... 0.11832213 0.15542479 0.36890942]\n",
      " [0.34954774 0.34639952 0.28646216 ... 0.25155523 0.20143913 0.51555187]\n",
      " [1.         1.         1.         ... 0.98473096 0.86376625 1.        ]]\n",
      "\n",
      "Aggregated chroma features: \n",
      "[[0.3025479  0.03345221 0.10583739 ... 0.15276003 0.07555084 0.08141489]\n",
      " [0.25782552 0.04074807 0.08428393 ... 0.09633807 0.12807782 0.09325492]\n",
      " [0.39978737 0.05756589 0.09429981 ... 0.4461109  0.18658903 0.13245766]\n",
      " ...\n",
      " [0.2408627  0.01813981 0.03972691 ... 0.18358055 0.90317076 0.04014793]\n",
      " [0.1903084  0.01895034 0.05992787 ... 0.15093869 0.18061489 0.05555063]\n",
      " [0.24867898 0.04809323 0.35862568 ... 0.40117818 0.29769832 0.35132235]]\n"
     ]
    }
   ],
   "source": [
    "import numpy as np\n",
    "import librosa\n",
    "\n",
    "# laod clip\n",
    "filepath = 'C:\\\\Users\\\\kipli\\\\Cedric\\\\Dance_of_the_Sugar_Plum_Fairy.ogg'\n",
    "y, sr = librosa.load(filepath)\n",
    "\n",
    "# set the hop length ~23ms\n",
    "hop_length = 512\n",
    "\n",
    "# separate the harmonics and percussives into two waveforms\n",
    "y_harmonic, y_percussive = librosa.effects.hpss(y)\n",
    "\n",
    "# beat track the percussive signal\n",
    "tempo, beat_frames = librosa.beat.beat_track(y_percussive, sr=sr)\n",
    "\n",
    "# compute the MFCC features from the raw signal\n",
    "mfcc = librosa.feature.mfcc(y=y, sr=sr, hop_length=hop_length, n_mfcc=13)\n",
    "print(f'\\nMFCC features: \\n{mfcc}')\n",
    "\n",
    "# first-order differences (delta features)\n",
    "mfcc_delta = librosa.feature.delta(mfcc)\n",
    "print(f'\\nDelta features: \\n{mfcc_delta}')\n",
    "\n",
    "# stack and synchronize beat events\n",
    "# here, we use the mean value (default) rather than the median\n",
    "beat_mfcc_delta = librosa.util.sync(np.vstack([mfcc, mfcc_delta]), beat_frames)\n",
    "print(f'\\nSynced signal: \\n{beat_mfcc_delta}')\n",
    "\n",
    "# compute the chroma features from the harmonic signal\n",
    "chromagram = librosa.feature.chroma_cqt(y=y_harmonic, sr=sr)\n",
    "print(f'\\nChroma features: \\n{chromagram}')\n",
    "\n",
    "# aggregate chroma features between beat events\n",
    "# we'll use the median value of each feature\n",
    "beat_chroma = librosa.util.sync(chromagram, beat_frames, aggregate=np.median)\n",
    "print(f'\\nAggregated chroma features: \\n{beat_chroma}')\n",
    "\n",
    "# stack all the beat_synchronous features together\n",
    "beat_features = np.vstack([beat_chroma, beat_mfcc_delta])"
   ]
  },
  {
   "cell_type": "code",
   "execution_count": 10,
   "id": "bc4b48e8",
   "metadata": {},
   "outputs": [
    {
     "data": {
      "text/plain": [
       "(13, 5163)"
      ]
     },
     "execution_count": 10,
     "metadata": {},
     "output_type": "execute_result"
    }
   ],
   "source": [
    "np.shape(mfcc)"
   ]
  },
  {
   "cell_type": "code",
   "execution_count": null,
   "id": "c71f0d1b",
   "metadata": {},
   "outputs": [],
   "source": []
  }
 ],
 "metadata": {
  "kernelspec": {
   "display_name": "Python 3",
   "language": "python",
   "name": "python3"
  },
  "language_info": {
   "codemirror_mode": {
    "name": "ipython",
    "version": 3
   },
   "file_extension": ".py",
   "mimetype": "text/x-python",
   "name": "python",
   "nbconvert_exporter": "python",
   "pygments_lexer": "ipython3",
   "version": "3.7.3"
  }
 },
 "nbformat": 4,
 "nbformat_minor": 5
}
